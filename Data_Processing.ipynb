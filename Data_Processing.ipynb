{
  "nbformat": 4,
  "nbformat_minor": 0,
  "metadata": {
    "colab": {
      "provenance": []
    },
    "kernelspec": {
      "name": "python3",
      "display_name": "Python 3"
    },
    "language_info": {
      "name": "python"
    }
  },
  "cells": [
    {
      "cell_type": "code",
      "execution_count": null,
      "metadata": {
        "id": "2WamJnGE13Nc"
      },
      "outputs": [],
      "source": [
        "#Download the following\n",
        "import os\n",
        "print(os.listdir())\n",
        "\n",
        "#Download each file pdf individually, then upload them to google drive in a file that is accessible. Then mount your drive.\n",
        "from google.colab import drive\n",
        "drive.mount('/content/drive')\n",
        "\n",
        "#Next step, is converting the files to txt, through the following code:\n",
        "!pip install pymupdf\n",
        "import fitz  # PyMuPDF\n",
        "\n",
        "os.makedirs(\"ndc_txts\", exist_ok=True)\n",
        "\n",
        "for pdf_file in os.listdir(\"ndc_pdfs\"):\n",
        "    if pdf_file.endswith(\".pdf\"):\n",
        "        pdf_path = os.path.join(\"ndc_pdfs\", pdf_file)\n",
        "        txt_path = os.path.join(\"ndc_txts\", pdf_file.replace(\".pdf\", \".txt\"))\n",
        "\n",
        "        try:\n",
        "            doc = fitz.open(pdf_path)\n",
        "            text = \"\".join([page.get_text() for page in doc])\n",
        "            doc.close()\n",
        "\n",
        "            with open(txt_path, \"w\", encoding=\"utf-8\") as f:\n",
        "                f.write(text)\n",
        "\n",
        "            print(f\"✅ Converted: {pdf_file}\")\n",
        "        except Exception as e:\n",
        "            print(f\"❌ Error converting {pdf_file}: {e}\")\n",
        "\n",
        "#Then, create a source path to input all of these txts into an accessible folder, so you may refer back to it later through the process.\n",
        "\n",
        "import shutil\n",
        "import os\n",
        "\n",
        "# Source path (your Colab folder)\n",
        "source_folder = \"ndc_txts\"\n",
        "\n",
        "# Destination path (on your Google Drive)\n",
        "destination_folder = \"/content/drive/MyDrive/Name_of_Folder\"  # Change 'MyDrive/ndc_texts' to a different path each time!\n",
        "\n",
        "# Copy the folder and its contents\n",
        "shutil.copytree(source_folder, destination_folder)\n",
        "print(f\"Folder copied to: {destination_folder}\")"
      ]
    }
  ]
}