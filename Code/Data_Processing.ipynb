{
  "nbformat": 4,
  "nbformat_minor": 0,
  "metadata": {
    "colab": {
      "provenance": []
    },
    "kernelspec": {
      "name": "python3",
      "display_name": "Python 3"
    },
    "language_info": {
      "name": "python"
    }
  },
  "cells": [
    {
      "cell_type": "code",
      "execution_count": null,
      "metadata": {
        "colab": {
          "base_uri": "https://localhost:8080/"
        },
        "id": "2WamJnGE13Nc",
        "outputId": "0d694e61-c73f-4c29-fa64-3148f4f2621f"
      },
      "outputs": [
        {
          "output_type": "stream",
          "name": "stdout",
          "text": [
            "['.config', 'sample_data']\n"
          ]
        }
      ],
      "source": [
        "#Download the following\n",
        "import os\n",
        "print(os.listdir())"
      ]
    },
    {
      "cell_type": "code",
      "source": [
        "#Download each file pdf individually, then upload them to google drive in a file that is accessible. Then mount your drive.\n",
        "from google.colab import drive\n",
        "drive.mount('/content/drive')"
      ],
      "metadata": {
        "colab": {
          "base_uri": "https://localhost:8080/"
        },
        "id": "CFm6c-lf2qEU",
        "outputId": "8bbd4ee0-f538-41a3-f39a-e622d1aeacad"
      },
      "execution_count": null,
      "outputs": [
        {
          "output_type": "stream",
          "name": "stdout",
          "text": [
            "Mounted at /content/drive\n"
          ]
        }
      ]
    },
    {
      "cell_type": "code",
      "source": [
        "#Next step, is converting the files to txt, through the following code:\n",
        "!pip install pymupdf\n",
        "import fitz  # PyMuPDF"
      ],
      "metadata": {
        "id": "p0nomk9c2gzF"
      },
      "execution_count": null,
      "outputs": []
    },
    {
      "cell_type": "code",
      "source": [
        "os.makedirs(\"ndc_txts\", exist_ok=True)\n",
        "\n",
        "for pdf_file in os.listdir(\"ndc_pdfs\"):\n",
        "    if pdf_file.endswith(\".pdf\"):\n",
        "        pdf_path = os.path.join(\"ndc_pdfs\", pdf_file)\n",
        "        txt_path = os.path.join(\"ndc_txts\", pdf_file.replace(\".pdf\", \".txt\"))\n",
        "\n",
        "        try:\n",
        "            doc = fitz.open(pdf_path)\n",
        "            text = \"\".join([page.get_text() for page in doc])\n",
        "            doc.close()\n",
        "\n",
        "            with open(txt_path, \"w\", encoding=\"utf-8\") as f:\n",
        "                f.write(text)\n",
        "\n",
        "            print(f\"✅ Converted: {pdf_file}\")\n",
        "        except Exception as e:\n",
        "            print(f\"❌ Error converting {pdf_file}: {e}\")"
      ],
      "metadata": {
        "id": "RD45rUiL2o0V"
      },
      "execution_count": null,
      "outputs": []
    },
    {
      "cell_type": "code",
      "source": [
        "import shutil\n",
        "import os"
      ],
      "metadata": {
        "id": "Ks6PszsH3GM5"
      },
      "execution_count": null,
      "outputs": []
    },
    {
      "cell_type": "code",
      "source": [
        "#Then, create a source path to input all of these txts into an accessible folder, so you may refer back to it later through the process.\n",
        "\n",
        "# Source path (your Colab folder)\n",
        "source_folder = \"ndc_txts\"\n",
        "\n",
        "# Destination path (on your Google Drive)\n",
        "destination_folder = \"/content/drive/MyDrive/Name_of_Folder\"  # Change 'MyDrive/ndc_texts' to a different path each time!\n",
        "\n",
        "# Copy the folder and its contents\n",
        "shutil.copytree(source_folder, destination_folder)\n",
        "print(f\"Folder copied to: {destination_folder}\")"
      ],
      "metadata": {
        "id": "u0HWy06U25Cb"
      },
      "execution_count": null,
      "outputs": []
    }
  ]
}
